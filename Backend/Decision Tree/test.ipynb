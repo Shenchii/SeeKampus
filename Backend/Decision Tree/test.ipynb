{
 "cells": [
  {
   "cell_type": "code",
   "execution_count": 43,
   "outputs": [],
   "source": [
    "# Import libraries\n",
    "import pandas as pd\n",
    "from sklearn.tree import DecisionTreeClassifier\n",
    "from sklearn import preprocessing\n",
    "from sklearn.model_selection import train_test_split\n",
    "from sklearn.metrics import accuracy_score, confusion_matrix, precision_score, recall_score, classification_report\n",
    "import joblib"
   ],
   "metadata": {
    "collapsed": false
   }
  },
  {
   "cell_type": "code",
   "execution_count": 44,
   "outputs": [],
   "source": [
    "le = preprocessing.LabelEncoder()\n",
    "\n",
    "# Import data and preprocess\n",
    "school_data = pd.read_csv('school profiles.csv')\n",
    "for column_name in school_data.columns:\n",
    "        if school_data[column_name].dtype == object:\n",
    "            school_data[column_name] = le.fit_transform(school_data[column_name])\n",
    "        else:\n",
    "            pass"
   ],
   "metadata": {
    "collapsed": false
   }
  },
  {
   "cell_type": "code",
   "execution_count": 45,
   "outputs": [
    {
     "data": {
      "text/plain": "DecisionTreeClassifier()",
      "text/html": "<style>#sk-container-id-6 {color: black;background-color: white;}#sk-container-id-6 pre{padding: 0;}#sk-container-id-6 div.sk-toggleable {background-color: white;}#sk-container-id-6 label.sk-toggleable__label {cursor: pointer;display: block;width: 100%;margin-bottom: 0;padding: 0.3em;box-sizing: border-box;text-align: center;}#sk-container-id-6 label.sk-toggleable__label-arrow:before {content: \"▸\";float: left;margin-right: 0.25em;color: #696969;}#sk-container-id-6 label.sk-toggleable__label-arrow:hover:before {color: black;}#sk-container-id-6 div.sk-estimator:hover label.sk-toggleable__label-arrow:before {color: black;}#sk-container-id-6 div.sk-toggleable__content {max-height: 0;max-width: 0;overflow: hidden;text-align: left;background-color: #f0f8ff;}#sk-container-id-6 div.sk-toggleable__content pre {margin: 0.2em;color: black;border-radius: 0.25em;background-color: #f0f8ff;}#sk-container-id-6 input.sk-toggleable__control:checked~div.sk-toggleable__content {max-height: 200px;max-width: 100%;overflow: auto;}#sk-container-id-6 input.sk-toggleable__control:checked~label.sk-toggleable__label-arrow:before {content: \"▾\";}#sk-container-id-6 div.sk-estimator input.sk-toggleable__control:checked~label.sk-toggleable__label {background-color: #d4ebff;}#sk-container-id-6 div.sk-label input.sk-toggleable__control:checked~label.sk-toggleable__label {background-color: #d4ebff;}#sk-container-id-6 input.sk-hidden--visually {border: 0;clip: rect(1px 1px 1px 1px);clip: rect(1px, 1px, 1px, 1px);height: 1px;margin: -1px;overflow: hidden;padding: 0;position: absolute;width: 1px;}#sk-container-id-6 div.sk-estimator {font-family: monospace;background-color: #f0f8ff;border: 1px dotted black;border-radius: 0.25em;box-sizing: border-box;margin-bottom: 0.5em;}#sk-container-id-6 div.sk-estimator:hover {background-color: #d4ebff;}#sk-container-id-6 div.sk-parallel-item::after {content: \"\";width: 100%;border-bottom: 1px solid gray;flex-grow: 1;}#sk-container-id-6 div.sk-label:hover label.sk-toggleable__label {background-color: #d4ebff;}#sk-container-id-6 div.sk-serial::before {content: \"\";position: absolute;border-left: 1px solid gray;box-sizing: border-box;top: 0;bottom: 0;left: 50%;z-index: 0;}#sk-container-id-6 div.sk-serial {display: flex;flex-direction: column;align-items: center;background-color: white;padding-right: 0.2em;padding-left: 0.2em;position: relative;}#sk-container-id-6 div.sk-item {position: relative;z-index: 1;}#sk-container-id-6 div.sk-parallel {display: flex;align-items: stretch;justify-content: center;background-color: white;position: relative;}#sk-container-id-6 div.sk-item::before, #sk-container-id-6 div.sk-parallel-item::before {content: \"\";position: absolute;border-left: 1px solid gray;box-sizing: border-box;top: 0;bottom: 0;left: 50%;z-index: -1;}#sk-container-id-6 div.sk-parallel-item {display: flex;flex-direction: column;z-index: 1;position: relative;background-color: white;}#sk-container-id-6 div.sk-parallel-item:first-child::after {align-self: flex-end;width: 50%;}#sk-container-id-6 div.sk-parallel-item:last-child::after {align-self: flex-start;width: 50%;}#sk-container-id-6 div.sk-parallel-item:only-child::after {width: 0;}#sk-container-id-6 div.sk-dashed-wrapped {border: 1px dashed gray;margin: 0 0.4em 0.5em 0.4em;box-sizing: border-box;padding-bottom: 0.4em;background-color: white;}#sk-container-id-6 div.sk-label label {font-family: monospace;font-weight: bold;display: inline-block;line-height: 1.2em;}#sk-container-id-6 div.sk-label-container {text-align: center;}#sk-container-id-6 div.sk-container {/* jupyter's `normalize.less` sets `[hidden] { display: none; }` but bootstrap.min.css set `[hidden] { display: none !important; }` so we also need the `!important` here to be able to override the default hidden behavior on the sphinx rendered scikit-learn.org. See: https://github.com/scikit-learn/scikit-learn/issues/21755 */display: inline-block !important;position: relative;}#sk-container-id-6 div.sk-text-repr-fallback {display: none;}</style><div id=\"sk-container-id-6\" class=\"sk-top-container\"><div class=\"sk-text-repr-fallback\"><pre>DecisionTreeClassifier()</pre><b>In a Jupyter environment, please rerun this cell to show the HTML representation or trust the notebook. <br />On GitHub, the HTML representation is unable to render, please try loading this page with nbviewer.org.</b></div><div class=\"sk-container\" hidden><div class=\"sk-item\"><div class=\"sk-estimator sk-toggleable\"><input class=\"sk-toggleable__control sk-hidden--visually\" id=\"sk-estimator-id-6\" type=\"checkbox\" checked><label for=\"sk-estimator-id-6\" class=\"sk-toggleable__label sk-toggleable__label-arrow\">DecisionTreeClassifier</label><div class=\"sk-toggleable__content\"><pre>DecisionTreeClassifier()</pre></div></div></div></div></div>"
     },
     "execution_count": 45,
     "metadata": {},
     "output_type": "execute_result"
    }
   ],
   "source": [
    "X = school_data.drop(columns=['School'])\n",
    "y = school_data['School']\n",
    "# Train the model on the full dataset\n",
    "model = DecisionTreeClassifier()\n",
    "model.fit(X.values,y)"
   ],
   "metadata": {
    "collapsed": false
   }
  },
  {
   "cell_type": "code",
   "execution_count": 52,
   "outputs": [
    {
     "data": {
      "text/plain": "array(['AMA Computer College'], dtype=object)"
     },
     "execution_count": 52,
     "metadata": {},
     "output_type": "execute_result"
    }
   ],
   "source": [
    "# # Prompt user for input values and convert to a list of integers\n",
    "course = input(\"Enter the course name: \")\n",
    "tuition_fee = input(\"Enter the tuition fee: \")\n",
    "location = input(\"Enter the location: \")\n",
    "#\n",
    "# # Find the column indices of the user-specified input values\n",
    "column_names = list(school_data.columns)\n",
    "course_index = column_names.index('Course')\n",
    "tuition_fee_index = column_names.index('Tuition Fee')\n",
    "location_index = column_names.index('Location')\n",
    "\n",
    "\n",
    "# Encode the user-specified input values using the LabelEncoder object\n",
    "# encoded_input_values = [course, tuition_fee, location]\n",
    "# encoded_input_values = le.transform(encoded_input_values)\n",
    "# encoded_input_values\n",
    "\n",
    "# Create a mapping dictionary that maps each possible course value to its corresponding index\n",
    "course_mapping = {\n",
    "    'BS Accountancy': 0,\n",
    "    'BS Architecture': 1,\n",
    "    'BS Civil Engineering': 2,\n",
    "    'BS Criminology': 3,\n",
    "    'BS Electrical Engineering': 4,\n",
    "    'BS Electronics Engineering': 5,\n",
    "    'BS Elementary Education': 6,\n",
    "    'BS Mechanical Engineering': 7,\n",
    "    'BS Nursing': 8,\n",
    "    'BS Psychology': 9,\n",
    "    'BS Secondary Education': 10,\n",
    "    'BS Secondary Education Major in English': 11,\n",
    "    'BS Secondary Education Major in Filipino': 12,\n",
    "    'BS Secondary Education Major in Mathematics': 13,\n",
    "    'BS Secondary Education Major in Social Studies': 14\n",
    "    # Add other possible course values and their indices here\n",
    "}\n",
    "# Create a mapping dictionary that maps each possible tuition fee value to its corresponding index\n",
    "tuition_fee_mapping = {\n",
    "    '12000': 0,\n",
    "    '13000': 1,\n",
    "    '14000': 2,\n",
    "    '16000': 3,\n",
    "    '17000': 4,\n",
    "    '18000': 5,\n",
    "    '19000': 6,\n",
    "    '20000': 7,\n",
    "    '21000': 8,\n",
    "    '22000': 9,\n",
    "    '23000': 10,\n",
    "    '24000': 11,\n",
    "    '25000': 12,\n",
    "    '26000': 13,\n",
    "    '32000': 14,\n",
    "    '33000': 15,\n",
    "    '34000': 16,\n",
    "    '38000': 17,\n",
    "    '40000': 18,\n",
    "    '41000': 19,\n",
    "    '42000': 20,\n",
    "    '43000': 21,\n",
    "    '44000': 22,\n",
    "    '45000': 23,\n",
    "    '46000': 24,\n",
    "    '47000': 25,\n",
    "    '48000': 26,\n",
    "    '49000': 27,\n",
    "    '50000': 28,\n",
    "    '51000': 29,\n",
    "    '52000': 30,\n",
    "    '53000': 31,\n",
    "    '54000': 32,\n",
    "    '55000': 33,\n",
    "    '56000': 34,\n",
    "    '57000': 35,\n",
    "    '58000': 36,\n",
    "    '59000': 37,\n",
    "    '60000': 38,\n",
    "    '61000': 39,\n",
    "    '62000': 40,\n",
    "    '63000': 41,\n",
    "    '64000': 42,\n",
    "    '65000': 43,\n",
    "    '70000': 44,\n",
    "    '71000': 45,\n",
    "    '72000': 46,\n",
    "    '73000': 47,\n",
    "    '74000': 48,\n",
    "    '75000': 49,\n",
    "    '76000': 50,\n",
    "    '77000': 51,\n",
    "    '78000': 52,\n",
    "    '79000': 53,\n",
    "    '80000': 54,\n",
    "    '81000': 55,\n",
    "    '82000': 56,\n",
    "    '83000': 57,\n",
    "    '84000': 58,\n",
    "    '85000': 59,\n",
    "    '86000': 60,\n",
    "    '87000': 61,\n",
    "    '88000': 62,\n",
    "    '89000': 63,\n",
    "    '90000': 64,\n",
    "    # Add other possible tuition fee values and their indices here\n",
    "}\n",
    "# Create a mapping dictionary that maps each possible location value to its corresponding index\n",
    "location_mapping = {\n",
    "    'Brgy. Bucal': 0,\n",
    "    'Brgy. Halang': 1,\n",
    "    'Brgy. Makiling': 2,\n",
    "    'Brgy. Paciano Rizal': 3,\n",
    "    'Brgy. Parian': 4,\n",
    "    'Brgy. Tres': 5,\n",
    "    # Add other possible location values and their indices here\n",
    "}\n",
    "encoded_input_values = [\n",
    "    course_mapping[course],\n",
    "    tuition_fee_mapping[tuition_fee],\n",
    "    location_mapping[location]\n",
    "]\n",
    "\n",
    "predictions = model.predict([encoded_input_values])\n",
    "le.inverse_transform(predictions)"
   ],
   "metadata": {
    "collapsed": false
   }
  },
  {
   "cell_type": "code",
   "execution_count": 37,
   "outputs": [
    {
     "data": {
      "text/plain": "array([\"Calamba Doctor's College\", \"Calamba Doctor's College\",\n       \"Calamba Doctor's College\", \"Calamba Doctor's College\",\n       \"Calamba Doctor's College\", 'AMA Computer College',\n       'Saints John and Paul Colleges', 'Saints John and Paul Colleges',\n       'Lyceum of the Philippines University',\n       'Lyceum of the Philippines University',\n       'Lyceum of the Philippines University',\n       'Lyceum of the Philippines University',\n       'Lyceum of the Philippines University',\n       'Lyceum of the Philippines University',\n       'Lyceum of the Philippines University',\n       'Lyceum of the Philippines University',\n       'Lyceum of the Philippines University',\n       'Lyceum of the Philippines University',\n       'Lyceum of the Philippines University',\n       'Lyceum of the Philippines University',\n       'Lyceum of the Philippines University',\n       'Lyceum of the Philippines University',\n       'Lyceum of the Philippines University',\n       'Lyceum of the Philippines University', 'Saint John Colleges',\n       'Saint John Colleges', 'Saint John Colleges',\n       'Saint John Colleges', 'Saint John Colleges',\n       'Saint John Colleges', 'Saint John Colleges',\n       'Saint John Colleges', 'Sain John Colleges', 'Sain John Colleges',\n       'Sain John Colleges', 'Sain John Colleges', 'Sain John Colleges',\n       'Sain John Colleges', 'Sain John Colleges', 'Sain John Colleges',\n       'Sain John Colleges', 'Sain John Colleges', 'Sain John Colleges',\n       'Sain John Colleges', 'Sain John Colleges', 'Sain John Colleges',\n       'Sain John Colleges', 'Sain John Colleges', 'Sain John Colleges',\n       'Sain John Colleges', 'Sain John Colleges', 'Sain John Colleges',\n       'Laguna College Of Business And Arts',\n       'Laguna College Of Business And Arts',\n       'Laguna College Of Business And Arts',\n       'Laguna College Of Business And Arts',\n       'Laguna College Of Business And Arts',\n       'Laguna College Of Business And Arts',\n       'Laguna College Of Business And Arts',\n       'Laguna College Of Business And Arts',\n       'Laguna College Of Business And Arts',\n       'Laguna College Of Business And Arts',\n       'Laguna College Of Business And Arts',\n       'Laguna College Of Business And Arts',\n       'Laguna College Of Business And Arts',\n       'Laguna College Of Business And Arts',\n       'Laguna College Of Business And Arts',\n       'Laguna College Of Business And Arts',\n       'Laguna College Of Business And Arts',\n       'Laguna College Of Business And Arts',\n       'Laguna College Of Business And Arts',\n       'Laguna College Of Business And Arts',\n       'Laguna College Of Business And Arts',\n       'Laguna College Of Business And Arts',\n       'Laguna College Of Business And Arts',\n       'Laguna College Of Business And Arts',\n       'Colegio de San Juan de Letran', 'Colegio de San Juan de Letran',\n       'Colegio de San Juan de Letran', 'Colegio de San Juan de Letran',\n       'Colegio de San Juan de Letran', 'Colegio de San Juan de Letran',\n       'Colegio de San Juan de Letran', 'Colegio de San Juan de Letran',\n       'Colegio de San Juan de Letran', 'Colegio de San Juan de Letran',\n       'Colegio de San Juan de Letran', 'Colegio de San Juan de Letran',\n       'Colegio de San Juan de Letran', 'Colegio de San Juan de Letran',\n       'Colegio de San Juan de Letran', 'Colegio de San Juan de Letran',\n       'Colegio de San Juan de Letran', 'Colegio de San Juan de Letran',\n       'Colegio de San Juan de Letran', 'Colegio de San Juan de Letran',\n       'Colegio de San Juan de Letran', 'Colegio de San Juan de Letran',\n       'Colegio de San Juan de Letran', 'Colegio de San Juan de Letran',\n       'Colegio de San Juan de Letran', 'Colegio de San Juan de Letran',\n       'Colegio de San Juan de Letran', 'Colegio de San Juan de Letran',\n       'Colegio de San Juan de Letran', 'Colegio de San Juan de Letran',\n       'Colegio de San Juan de Letran', 'Colegio de San Juan de Letran',\n       'Colegio de San Juan de Letran', 'Colegio de San Juan de Letran',\n       'Colegio de San Juan de Letran', 'Colegio de San Juan de Letran',\n       'Colegio de San Juan de Letran', 'Colegio de San Juan de Letran',\n       'Colegio de San Juan de Letran', 'Colegio de San Juan de Letran',\n       'Colegio de San Juan de Letran', 'Colegio de San Juan de Letran',\n       'Colegio de San Juan de Letran', 'Colegio de San Juan de Letran',\n       'Colegio de San Juan de Letran', 'Colegio de San Juan de Letran',\n       'Colegio de San Juan de Letran', 'Colegio de San Juan de Letran',\n       'Colegio de San Juan de Letran', 'Colegio de San Juan de Letran',\n       'Colegio de San Juan de Letran', 'Colegio de San Juan de Letran',\n       'Colegio de San Juan de Letran', 'Colegio de San Juan de Letran',\n       'Colegio de San Juan de Letran', 'Colegio de San Juan de Letran',\n       'Colegio de San Juan de Letran', 'Colegio de San Juan de Letran',\n       'Colegio de San Juan de Letran', 'Colegio de San Juan de Letran',\n       'Colegio de San Juan de Letran', 'Colegio de San Juan de Letran',\n       'Colegio de San Juan de Letran', 'Colegio de San Juan de Letran',\n       'Colegio de San Juan de Letran', 'Colegio de San Juan de Letran',\n       'Colegio de San Juan de Letran', 'Colegio de San Juan de Letran',\n       'Colegio de San Juan de Letran', 'Colegio de San Juan de Letran',\n       'Colegio de San Juan de Letran', 'Colegio de San Juan de Letran',\n       'Colegio de San Juan de Letran', 'Colegio de San Juan de Letran',\n       'Colegio de San Juan de Letran', 'Colegio de San Juan de Letran',\n       'Colegio de San Juan de Letran', 'Colegio de San Juan de Letran',\n       'Colegio de San Juan de Letran', 'Colegio de San Juan de Letran',\n       'Colegio de San Juan de Letran', 'Colegio de San Juan de Letran',\n       'Colegio de San Juan de Letran', 'Colegio de San Juan de Letran',\n       'Colegio de San Juan de Letran', 'Colegio de San Juan de Letran',\n       'Colegio de San Juan de Letran', 'Colegio de San Juan de Letran',\n       'Colegio de San Juan de Letran', 'Colegio de San Juan de Letran',\n       'Colegio de San Juan de Letran', 'Colegio de San Juan de Letran',\n       'Colegio de San Juan de Letran', 'Colegio de San Juan de Letran',\n       'Colegio de San Juan de Letran', 'Colegio de San Juan de Letran',\n       'Colegio de San Juan de Letran', 'Colegio de San Juan de Letran',\n       'Colegio de San Juan de Letran', 'Colegio de San Juan de Letran',\n       'Colegio de San Juan de Letran', 'Colegio de San Juan de Letran',\n       'Colegio de San Juan de Letran', 'Colegio de San Juan de Letran',\n       'Colegio de San Juan de Letran', 'Colegio de San Juan de Letran',\n       'Colegio de San Juan de Letran', 'Colegio de San Juan de Letran',\n       'Colegio de San Juan de Letran', 'Colegio de San Juan de Letran',\n       'Colegio de San Juan de Letran', 'Colegio de San Juan de Letran',\n       'Colegio de San Juan de Letran', 'Colegio de San Juan de Letran',\n       'Colegio de San Juan de Letran', 'Colegio de San Juan de Letran',\n       'Colegio de San Juan de Letran', 'Colegio de San Juan de Letran',\n       'Colegio de San Juan de Letran', 'Colegio de San Juan de Letran',\n       'Colegio de San Juan de Letran', 'Colegio de San Juan de Letran',\n       'Colegio de San Juan de Letran', 'Colegio de San Juan de Letran',\n       'Colegio de San Juan de Letran', 'Colegio de San Juan de Letran',\n       'Colegio de San Juan de Letran', 'Colegio de San Juan de Letran',\n       'Colegio de San Juan de Letran', 'Colegio de San Juan de Letran',\n       'Colegio de San Juan de Letran', 'Colegio de San Juan de Letran',\n       'Colegio de San Juan de Letran', 'Colegio de San Juan de Letran',\n       'Colegio de San Juan de Letran', 'Colegio de San Juan de Letran',\n       'Colegio de San Juan de Letran', 'Colegio de San Juan de Letran',\n       'Colegio de San Juan de Letran', 'Colegio de San Juan de Letran',\n       'Colegio de San Juan de Letran', 'Colegio de San Juan de Letran',\n       'Colegio de San Juan de Letran', 'Colegio de San Juan de Letran',\n       'Colegio de San Juan de Letran', 'Colegio de San Juan de Letran',\n       'Colegio de San Juan de Letran', 'Colegio de San Juan de Letran',\n       'Colegio de San Juan de Letran',\n       'University of Perpetual Help System Dalta',\n       'University of Perpetual Help System Dalta',\n       'University of Perpetual Help System Dalta',\n       'University of Perpetual Help System Dalta',\n       'University of Perpetual Help System Dalta',\n       'University of Perpetual Help System Dalta',\n       'University of Perpetual Help System Dalta',\n       'University of Perpetual Help System Dalta',\n       'University of Perpetual Help System Dalta',\n       'University of Perpetual Help System Dalta',\n       'University of Perpetual Help System Dalta',\n       'University of Perpetual Help System Dalta',\n       'University of Perpetual Help System Dalta',\n       'University of Perpetual Help System Dalta',\n       'University of Perpetual Help System Dalta',\n       'University of Perpetual Help System Dalta',\n       'University of Perpetual Help System Dalta',\n       'University of Perpetual Help System Dalta',\n       'University of Perpetual Help System Dalta',\n       'University of Perpetual Help System Dalta',\n       'University of Perpetual Help System Dalta',\n       'University of Perpetual Help System Dalta',\n       'University of Perpetual Help System Dalta',\n       'University of Perpetual Help System Dalta',\n       'University of Perpetual Help System Dalta',\n       'University of Perpetual Help System Dalta',\n       'University of Perpetual Help System Dalta',\n       'University of Perpetual Help System Dalta',\n       'University of Perpetual Help System Dalta',\n       'University of Perpetual Help System Dalta',\n       'University of Perpetual Help System Dalta',\n       'University of Perpetual Help System Dalta',\n       'University of Perpetual Help System Dalta',\n       'University of Perpetual Help System Dalta',\n       'University of Perpetual Help System Dalta',\n       'University of Perpetual Help System Dalta',\n       'University of Perpetual Help System Dalta',\n       'University of Perpetual Help System Dalta',\n       'University of Perpetual Help System Dalta',\n       'University of Perpetual Help System Dalta',\n       'University of Perpetual Help System Dalta',\n       'University of Perpetual Help System Dalta',\n       'University of Perpetual Help System Dalta',\n       'University of Perpetual Help System Dalta',\n       'University of Perpetual Help System Dalta',\n       'University of Perpetual Help System Dalta',\n       'University of Perpetual Help System Dalta',\n       'University of Perpetual Help System Dalta',\n       'University of Perpetual Help System Dalta',\n       'University of Perpetual Help System Dalta',\n       'University of Perpetual Help System Dalta',\n       'University of Perpetual Help System Dalta',\n       'University of Perpetual Help System Dalta',\n       'University of Perpetual Help System Dalta',\n       'University of Perpetual Help System Dalta',\n       'University of Perpetual Help System Dalta',\n       'University of Perpetual Help System Dalta',\n       'University of Perpetual Help System Dalta',\n       'University of Perpetual Help System Dalta',\n       'University of Perpetual Help System Dalta',\n       'University of Perpetual Help System Dalta',\n       'University of Perpetual Help System Dalta',\n       'University of Perpetual Help System Dalta',\n       'University of Perpetual Help System Dalta',\n       'University of Perpetual Help System Dalta',\n       'University of Perpetual Help System Dalta',\n       'University of Perpetual Help System Dalta',\n       'University of Perpetual Help System Dalta',\n       'University of Perpetual Help System Dalta',\n       'University of Perpetual Help System Dalta',\n       'University of Perpetual Help System Dalta',\n       'University of Perpetual Help System Dalta',\n       'University of Perpetual Help System Dalta',\n       'University of Perpetual Help System Dalta',\n       'University of Perpetual Help System Dalta',\n       'University of Perpetual Help System Dalta',\n       'University of Perpetual Help System Dalta',\n       'University of Perpetual Help System Dalta',\n       'University of Perpetual Help System Dalta',\n       'University of Perpetual Help System Dalta',\n       'University of Perpetual Help System Dalta',\n       'University of Perpetual Help System Dalta',\n       'University of Perpetual Help System Dalta',\n       'University of Perpetual Help System Dalta',\n       'University of Perpetual Help System Dalta',\n       'University of Perpetual Help System Dalta',\n       'University of Perpetual Help System Dalta',\n       'University of Perpetual Help System Dalta',\n       'University of Perpetual Help System Dalta',\n       'University of Perpetual Help System Dalta',\n       'University of Perpetual Help System Dalta',\n       'University of Perpetual Help System Dalta',\n       'University of Perpetual Help System Dalta',\n       'University of Perpetual Help System Dalta',\n       'University of Perpetual Help System Dalta',\n       'University of Perpetual Help System Dalta',\n       'University of Perpetual Help System Dalta',\n       'University of Perpetual Help System Dalta',\n       'University of Perpetual Help System Dalta',\n       'University of Perpetual Help System Dalta',\n       'University of Perpetual Help System Dalta',\n       'University of Perpetual Help System Dalta',\n       'University of Perpetual Help System Dalta',\n       'University of Perpetual Help System Dalta',\n       'University of Perpetual Help System Dalta',\n       'University of Perpetual Help System Dalta',\n       'University of Perpetual Help System Dalta',\n       'University of Perpetual Help System Dalta',\n       'University of Perpetual Help System Dalta',\n       'University of Perpetual Help System Dalta',\n       'University of Perpetual Help System Dalta',\n       'University of Perpetual Help System Dalta',\n       'University of Perpetual Help System Dalta',\n       'University of Perpetual Help System Dalta',\n       'University of Perpetual Help System Dalta',\n       'University of Perpetual Help System Dalta',\n       'University of Perpetual Help System Dalta',\n       'University of Perpetual Help System Dalta',\n       'University of Perpetual Help System Dalta',\n       'University of Perpetual Help System Dalta',\n       'University of Perpetual Help System Dalta',\n       'University of Perpetual Help System Dalta',\n       'University of Perpetual Help System Dalta',\n       'University of Perpetual Help System Dalta',\n       'University of Perpetual Help System Dalta',\n       'University of Perpetual Help System Dalta',\n       'University of Perpetual Help System Dalta',\n       'University of Perpetual Help System Dalta',\n       'University of Perpetual Help System Dalta',\n       'University of Perpetual Help System Dalta',\n       'University of Perpetual Help System Dalta'], dtype=object)"
     },
     "execution_count": 37,
     "metadata": {},
     "output_type": "execute_result"
    }
   ],
   "source": [
    "le.inverse_transform(school_data['School'])"
   ],
   "metadata": {
    "collapsed": false
   }
  },
  {
   "cell_type": "code",
   "execution_count": 38,
   "outputs": [
    {
     "data": {
      "text/plain": "     Course  Tuition Fee  Location  School\n0         0           25         4       1\n1         6           25         4       1\n2        10           25         4       1\n3         9           17         4       1\n4         8           31         4       1\n..      ...          ...       ...     ...\n351       2           34         3       8\n352       2           35         3       8\n353       2           36         3       8\n354       2           37         3       8\n355       2           38         3       8\n\n[356 rows x 4 columns]",
      "text/html": "<div>\n<style scoped>\n    .dataframe tbody tr th:only-of-type {\n        vertical-align: middle;\n    }\n\n    .dataframe tbody tr th {\n        vertical-align: top;\n    }\n\n    .dataframe thead th {\n        text-align: right;\n    }\n</style>\n<table border=\"1\" class=\"dataframe\">\n  <thead>\n    <tr style=\"text-align: right;\">\n      <th></th>\n      <th>Course</th>\n      <th>Tuition Fee</th>\n      <th>Location</th>\n      <th>School</th>\n    </tr>\n  </thead>\n  <tbody>\n    <tr>\n      <th>0</th>\n      <td>0</td>\n      <td>25</td>\n      <td>4</td>\n      <td>1</td>\n    </tr>\n    <tr>\n      <th>1</th>\n      <td>6</td>\n      <td>25</td>\n      <td>4</td>\n      <td>1</td>\n    </tr>\n    <tr>\n      <th>2</th>\n      <td>10</td>\n      <td>25</td>\n      <td>4</td>\n      <td>1</td>\n    </tr>\n    <tr>\n      <th>3</th>\n      <td>9</td>\n      <td>17</td>\n      <td>4</td>\n      <td>1</td>\n    </tr>\n    <tr>\n      <th>4</th>\n      <td>8</td>\n      <td>31</td>\n      <td>4</td>\n      <td>1</td>\n    </tr>\n    <tr>\n      <th>...</th>\n      <td>...</td>\n      <td>...</td>\n      <td>...</td>\n      <td>...</td>\n    </tr>\n    <tr>\n      <th>351</th>\n      <td>2</td>\n      <td>34</td>\n      <td>3</td>\n      <td>8</td>\n    </tr>\n    <tr>\n      <th>352</th>\n      <td>2</td>\n      <td>35</td>\n      <td>3</td>\n      <td>8</td>\n    </tr>\n    <tr>\n      <th>353</th>\n      <td>2</td>\n      <td>36</td>\n      <td>3</td>\n      <td>8</td>\n    </tr>\n    <tr>\n      <th>354</th>\n      <td>2</td>\n      <td>37</td>\n      <td>3</td>\n      <td>8</td>\n    </tr>\n    <tr>\n      <th>355</th>\n      <td>2</td>\n      <td>38</td>\n      <td>3</td>\n      <td>8</td>\n    </tr>\n  </tbody>\n</table>\n<p>356 rows × 4 columns</p>\n</div>"
     },
     "execution_count": 38,
     "metadata": {},
     "output_type": "execute_result"
    }
   ],
   "source": [
    "school_data"
   ],
   "metadata": {
    "collapsed": false
   }
  },
  {
   "cell_type": "code",
   "execution_count": 42,
   "outputs": [
    {
     "data": {
      "text/plain": "                      Course  Tuition Fee             Location  \\\n0             BS Accountancy   47,000.00          Brgy. Parian   \n1    BS Elementary Education   47,000.00          Brgy. Parian   \n2     BS Secondary Education   47,000.00          Brgy. Parian   \n3              BS Psychology   38,000.00          Brgy. Parian   \n4                 BS Nursing   53,000.00          Brgy. Parian   \n..                       ...          ...                  ...   \n351     BS Civil Engineering   56,000.00   Brgy. Paciano Rizal   \n352     BS Civil Engineering   57,000.00   Brgy. Paciano Rizal   \n353     BS Civil Engineering   58,000.00   Brgy. Paciano Rizal   \n354     BS Civil Engineering   59,000.00   Brgy. Paciano Rizal   \n355     BS Civil Engineering   60,000.00   Brgy. Paciano Rizal   \n\n                                        School  \n0                     Calamba Doctor's College  \n1                     Calamba Doctor's College  \n2                     Calamba Doctor's College  \n3                     Calamba Doctor's College  \n4                     Calamba Doctor's College  \n..                                         ...  \n351  University of Perpetual Help System Dalta  \n352  University of Perpetual Help System Dalta  \n353  University of Perpetual Help System Dalta  \n354  University of Perpetual Help System Dalta  \n355  University of Perpetual Help System Dalta  \n\n[356 rows x 4 columns]",
      "text/html": "<div>\n<style scoped>\n    .dataframe tbody tr th:only-of-type {\n        vertical-align: middle;\n    }\n\n    .dataframe tbody tr th {\n        vertical-align: top;\n    }\n\n    .dataframe thead th {\n        text-align: right;\n    }\n</style>\n<table border=\"1\" class=\"dataframe\">\n  <thead>\n    <tr style=\"text-align: right;\">\n      <th></th>\n      <th>Course</th>\n      <th>Tuition Fee</th>\n      <th>Location</th>\n      <th>School</th>\n    </tr>\n  </thead>\n  <tbody>\n    <tr>\n      <th>0</th>\n      <td>BS Accountancy</td>\n      <td>47,000.00</td>\n      <td>Brgy. Parian</td>\n      <td>Calamba Doctor's College</td>\n    </tr>\n    <tr>\n      <th>1</th>\n      <td>BS Elementary Education</td>\n      <td>47,000.00</td>\n      <td>Brgy. Parian</td>\n      <td>Calamba Doctor's College</td>\n    </tr>\n    <tr>\n      <th>2</th>\n      <td>BS Secondary Education</td>\n      <td>47,000.00</td>\n      <td>Brgy. Parian</td>\n      <td>Calamba Doctor's College</td>\n    </tr>\n    <tr>\n      <th>3</th>\n      <td>BS Psychology</td>\n      <td>38,000.00</td>\n      <td>Brgy. Parian</td>\n      <td>Calamba Doctor's College</td>\n    </tr>\n    <tr>\n      <th>4</th>\n      <td>BS Nursing</td>\n      <td>53,000.00</td>\n      <td>Brgy. Parian</td>\n      <td>Calamba Doctor's College</td>\n    </tr>\n    <tr>\n      <th>...</th>\n      <td>...</td>\n      <td>...</td>\n      <td>...</td>\n      <td>...</td>\n    </tr>\n    <tr>\n      <th>351</th>\n      <td>BS Civil Engineering</td>\n      <td>56,000.00</td>\n      <td>Brgy. Paciano Rizal</td>\n      <td>University of Perpetual Help System Dalta</td>\n    </tr>\n    <tr>\n      <th>352</th>\n      <td>BS Civil Engineering</td>\n      <td>57,000.00</td>\n      <td>Brgy. Paciano Rizal</td>\n      <td>University of Perpetual Help System Dalta</td>\n    </tr>\n    <tr>\n      <th>353</th>\n      <td>BS Civil Engineering</td>\n      <td>58,000.00</td>\n      <td>Brgy. Paciano Rizal</td>\n      <td>University of Perpetual Help System Dalta</td>\n    </tr>\n    <tr>\n      <th>354</th>\n      <td>BS Civil Engineering</td>\n      <td>59,000.00</td>\n      <td>Brgy. Paciano Rizal</td>\n      <td>University of Perpetual Help System Dalta</td>\n    </tr>\n    <tr>\n      <th>355</th>\n      <td>BS Civil Engineering</td>\n      <td>60,000.00</td>\n      <td>Brgy. Paciano Rizal</td>\n      <td>University of Perpetual Help System Dalta</td>\n    </tr>\n  </tbody>\n</table>\n<p>356 rows × 4 columns</p>\n</div>"
     },
     "execution_count": 42,
     "metadata": {},
     "output_type": "execute_result"
    }
   ],
   "source": [
    "school_data = pd.read_csv('school profiles.csv')\n",
    "school_data"
   ],
   "metadata": {
    "collapsed": false
   }
  },
  {
   "cell_type": "code",
   "execution_count": null,
   "outputs": [],
   "source": [
    "# Create a mapping dictionary that maps each possible course value to its corresponding index\n",
    "course_mapping = {\n",
    "    'BS Accountancy': 0,\n",
    "    'BS Architecture': 1,\n",
    "    'BS Civil Engineering': 2,\n",
    "    'BS Criminology': 3,\n",
    "    'BS Electrical Engineering': 4,\n",
    "    'BS Electronics Engineering': 5,\n",
    "    'BS Elementary Education': 6,\n",
    "    'BS Mechanical Engineering': 7,\n",
    "    'BS Nursing': 8,\n",
    "    'BS Psychology': 9,\n",
    "    'BS Secondary Education': 10,\n",
    "    'BS Secondary Education Major in English': 11,\n",
    "    'BS Secondary Education Major in Filipino': 12,\n",
    "    'BS Secondary Education Major in Mathematics': 13,\n",
    "    'BS Secondary Education Major in Social Studies': 14\n",
    "    # Add other possible course values and their indices here\n",
    "}\n",
    "# Create a mapping dictionary that maps each possible tuition fee value to its corresponding index\n",
    "tuition_fee_mapping = {\n",
    "    '12000': 0,\n",
    "    '13000': 1,\n",
    "    '14000': 2,\n",
    "    '16000': 3,\n",
    "    '17000': 4,\n",
    "    '18000': 5,\n",
    "    '19000': 6,\n",
    "    '20000': 7,\n",
    "    '21000': 8,\n",
    "    '22000': 9,\n",
    "    '23000': 10,\n",
    "    '24000': 11,\n",
    "    '25000': 12,\n",
    "    '26000': 13,\n",
    "    '32000': 14,\n",
    "    '33000': 15,\n",
    "    '34000': 16,\n",
    "    '38000': 17,\n",
    "    '40000': 18,\n",
    "    '41000': 19,\n",
    "    '42000': 20,\n",
    "    '43000': 21,\n",
    "    '44000': 22,\n",
    "    '45000': 23,\n",
    "    '46000': 24,\n",
    "    '47000': 25,\n",
    "    '48000': 26,\n",
    "    '49000': 27,\n",
    "    '50000': 28,\n",
    "    '51000': 29,\n",
    "    '52000': 30,\n",
    "    '53000': 31,\n",
    "    '54000': 32,\n",
    "    '55000': 33,\n",
    "    '56000': 34,\n",
    "    '57000': 35,\n",
    "    '58000': 36,\n",
    "    '59000': 37,\n",
    "    '60000': 38,\n",
    "    '61000': 39,\n",
    "    '62000': 40,\n",
    "    '63000': 41,\n",
    "    '64000': 42,\n",
    "    '65000': 43,\n",
    "    '70000': 44,\n",
    "    '71000': 45,\n",
    "    '72000': 46,\n",
    "    '73000': 47,\n",
    "    '74000': 48,\n",
    "    '75000': 49,\n",
    "    '76000': 50,\n",
    "    '77000': 51,\n",
    "    '78000': 52,\n",
    "    '79000': 53,\n",
    "    '80000': 54,\n",
    "    '81000': 55,\n",
    "    '82000': 56,\n",
    "    '83000': 57,\n",
    "    '84000': 58,\n",
    "    '85000': 59,\n",
    "    '86000': 60,\n",
    "    '87000': 61,\n",
    "    '88000': 62,\n",
    "    '89000': 63,\n",
    "    '90000': 64,\n",
    "    # Add other possible tuition fee values and their indices here\n",
    "}\n",
    "# Create a mapping dictionary that maps each possible location value to its corresponding index\n",
    "location_mapping = {\n",
    "    'Brgy. Bucal': 0,\n",
    "    'Brgy. Halang': 1,\n",
    "    'Brgy. Makiling': 2,\n",
    "    'Brgy. Paciano Rizal': 3,\n",
    "    'Brgy. Parian': 4,\n",
    "    'Brgy. Tres': 5,\n",
    "    # Add other possible location values and their indices here\n",
    "}\n",
    "encoded_input_values = [\n",
    "    course_mapping[course],\n",
    "    tuition_fee_mapping[tuition_fee],\n",
    "    location_mapping[location]\n",
    "]"
   ],
   "metadata": {
    "collapsed": false
   }
  }
 ],
 "metadata": {
  "kernelspec": {
   "display_name": "Python 3",
   "language": "python",
   "name": "python3"
  },
  "language_info": {
   "codemirror_mode": {
    "name": "ipython",
    "version": 2
   },
   "file_extension": ".py",
   "mimetype": "text/x-python",
   "name": "python",
   "nbconvert_exporter": "python",
   "pygments_lexer": "ipython2",
   "version": "2.7.6"
  }
 },
 "nbformat": 4,
 "nbformat_minor": 0
}
