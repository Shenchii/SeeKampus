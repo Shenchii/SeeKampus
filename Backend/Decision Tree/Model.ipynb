{
 "cells": [
  {
   "cell_type": "code",
   "execution_count": 89,
   "metadata": {},
   "outputs": [
    {
     "data": {
      "text/plain": "    Course  Tuition fee  location\n33       0           43         1\n28       0           38         1\n39       0           17         3\n31       0           41         1\n13       0            5         2",
      "text/html": "<div>\n<style scoped>\n    .dataframe tbody tr th:only-of-type {\n        vertical-align: middle;\n    }\n\n    .dataframe tbody tr th {\n        vertical-align: top;\n    }\n\n    .dataframe thead th {\n        text-align: right;\n    }\n</style>\n<table border=\"1\" class=\"dataframe\">\n  <thead>\n    <tr style=\"text-align: right;\">\n      <th></th>\n      <th>Course</th>\n      <th>Tuition fee</th>\n      <th>location</th>\n    </tr>\n  </thead>\n  <tbody>\n    <tr>\n      <th>33</th>\n      <td>0</td>\n      <td>43</td>\n      <td>1</td>\n    </tr>\n    <tr>\n      <th>28</th>\n      <td>0</td>\n      <td>38</td>\n      <td>1</td>\n    </tr>\n    <tr>\n      <th>39</th>\n      <td>0</td>\n      <td>17</td>\n      <td>3</td>\n    </tr>\n    <tr>\n      <th>31</th>\n      <td>0</td>\n      <td>41</td>\n      <td>1</td>\n    </tr>\n    <tr>\n      <th>13</th>\n      <td>0</td>\n      <td>5</td>\n      <td>2</td>\n    </tr>\n  </tbody>\n</table>\n</div>"
     },
     "execution_count": 89,
     "metadata": {},
     "output_type": "execute_result"
    }
   ],
   "source": [
    "# Import libraries\n",
    "import pandas as pd\n",
    "from sklearn.tree import DecisionTreeClassifier\n",
    "from sklearn import preprocessing\n",
    "from sklearn.model_selection import train_test_split\n",
    "from sklearn.metrics import accuracy_score\n",
    "import joblib\n",
    "\n",
    "le = preprocessing.LabelEncoder()\n",
    "\n",
    "# Import data and preprocess\n",
    "school_data = pd.read_csv('school profiles.csv')\n",
    "for column_name in school_data.columns:\n",
    "        if school_data[column_name].dtype == object:\n",
    "            school_data[column_name] = le.fit_transform(school_data[column_name])\n",
    "        else:\n",
    "            pass\n",
    "X = school_data.drop(columns=['School'])\n",
    "y = school_data['School']\n",
    "\n",
    "X_train, X_test, y_train, y_test = train_test_split(X, y, test_size=0.2)\n",
    "\n",
    "model = DecisionTreeClassifier()\n",
    "model.fit(X_train, y_train)\n",
    "predictions = model.predict(X_test)\n",
    "# predictions\n",
    "score = accuracy_score(y_test, predictions)\n",
    "X_test.head()\n",
    "\n"
   ]
  },
  {
   "cell_type": "code",
   "execution_count": 114,
   "metadata": {
    "scrolled": false
   },
   "outputs": [
    {
     "name": "stderr",
     "output_type": "stream",
     "text": [
      "C:\\Users\\wowha\\OneDrive\\Desktop\\SeeKampus\\venv\\lib\\site-packages\\sklearn\\base.py:402: UserWarning: X has feature names, but DecisionTreeClassifier was fitted without feature names\n",
      "  warnings.warn(\n"
     ]
    },
    {
     "data": {
      "text/plain": "array(['Letran', 'Letran', 'Perps', 'Letran', 'LPU', 'Letran', 'Letran',\n       'Letran', 'LPU', 'Perps'], dtype=object)"
     },
     "execution_count": 114,
     "metadata": {},
     "output_type": "execute_result"
    }
   ],
   "source": [
    "model = DecisionTreeClassifier()\n",
    "model.fit(X.values,y)\n",
    "\n",
    "predictions = model.predict(X_test)\n",
    "le.inverse_transform(predictions)\n",
    "#predictions"
   ]
  },
  {
   "cell_type": "code",
   "execution_count": 22,
   "metadata": {},
   "outputs": [
    {
     "data": {
      "text/plain": "    Course  Tuition fee  location  School\n0        0            2         0       6\n1        0            4         0       6\n2        0            0         0       6\n3        0            1         0       6\n4        0           11         4       1\n5        0            8         0       2\n6        0            9         0       2\n7        0           10         0       2\n8        0           12         0       2\n9        0           13         0       2\n10       0           14         0       2\n11       0           15         0       2\n12       0            3         4       0\n13       0            5         2       3\n14       0            6         2       3\n15       0            7         2       3\n16       0           26         1       4\n17       0           27         1       4\n18       0           28         1       4\n19       0           29         1       4\n20       0           30         1       4\n21       0           31         1       4\n22       0           32         1       4\n23       0           33         1       4\n24       0           34         1       4\n25       0           35         1       4\n26       0           36         1       4\n27       0           37         1       4\n28       0           38         1       4\n29       0           39         1       4\n30       0           40         1       4\n31       0           41         1       4\n32       0           42         1       4\n33       0           43         1       4\n34       0           44         1       4\n35       0           45         1       4\n36       0           46         1       4\n37       0           15         3       5\n38       0           16         3       5\n39       0           17         3       5\n40       0           18         3       5\n41       0           19         3       5\n42       0           20         3       5\n43       0           21         3       5\n44       0           22         3       5\n45       0           23         3       5\n46       0           24         3       5\n47       0           25         3       5",
      "text/html": "<div>\n<style scoped>\n    .dataframe tbody tr th:only-of-type {\n        vertical-align: middle;\n    }\n\n    .dataframe tbody tr th {\n        vertical-align: top;\n    }\n\n    .dataframe thead th {\n        text-align: right;\n    }\n</style>\n<table border=\"1\" class=\"dataframe\">\n  <thead>\n    <tr style=\"text-align: right;\">\n      <th></th>\n      <th>Course</th>\n      <th>Tuition fee</th>\n      <th>location</th>\n      <th>School</th>\n    </tr>\n  </thead>\n  <tbody>\n    <tr>\n      <th>0</th>\n      <td>0</td>\n      <td>2</td>\n      <td>0</td>\n      <td>6</td>\n    </tr>\n    <tr>\n      <th>1</th>\n      <td>0</td>\n      <td>4</td>\n      <td>0</td>\n      <td>6</td>\n    </tr>\n    <tr>\n      <th>2</th>\n      <td>0</td>\n      <td>0</td>\n      <td>0</td>\n      <td>6</td>\n    </tr>\n    <tr>\n      <th>3</th>\n      <td>0</td>\n      <td>1</td>\n      <td>0</td>\n      <td>6</td>\n    </tr>\n    <tr>\n      <th>4</th>\n      <td>0</td>\n      <td>11</td>\n      <td>4</td>\n      <td>1</td>\n    </tr>\n    <tr>\n      <th>5</th>\n      <td>0</td>\n      <td>8</td>\n      <td>0</td>\n      <td>2</td>\n    </tr>\n    <tr>\n      <th>6</th>\n      <td>0</td>\n      <td>9</td>\n      <td>0</td>\n      <td>2</td>\n    </tr>\n    <tr>\n      <th>7</th>\n      <td>0</td>\n      <td>10</td>\n      <td>0</td>\n      <td>2</td>\n    </tr>\n    <tr>\n      <th>8</th>\n      <td>0</td>\n      <td>12</td>\n      <td>0</td>\n      <td>2</td>\n    </tr>\n    <tr>\n      <th>9</th>\n      <td>0</td>\n      <td>13</td>\n      <td>0</td>\n      <td>2</td>\n    </tr>\n    <tr>\n      <th>10</th>\n      <td>0</td>\n      <td>14</td>\n      <td>0</td>\n      <td>2</td>\n    </tr>\n    <tr>\n      <th>11</th>\n      <td>0</td>\n      <td>15</td>\n      <td>0</td>\n      <td>2</td>\n    </tr>\n    <tr>\n      <th>12</th>\n      <td>0</td>\n      <td>3</td>\n      <td>4</td>\n      <td>0</td>\n    </tr>\n    <tr>\n      <th>13</th>\n      <td>0</td>\n      <td>5</td>\n      <td>2</td>\n      <td>3</td>\n    </tr>\n    <tr>\n      <th>14</th>\n      <td>0</td>\n      <td>6</td>\n      <td>2</td>\n      <td>3</td>\n    </tr>\n    <tr>\n      <th>15</th>\n      <td>0</td>\n      <td>7</td>\n      <td>2</td>\n      <td>3</td>\n    </tr>\n    <tr>\n      <th>16</th>\n      <td>0</td>\n      <td>26</td>\n      <td>1</td>\n      <td>4</td>\n    </tr>\n    <tr>\n      <th>17</th>\n      <td>0</td>\n      <td>27</td>\n      <td>1</td>\n      <td>4</td>\n    </tr>\n    <tr>\n      <th>18</th>\n      <td>0</td>\n      <td>28</td>\n      <td>1</td>\n      <td>4</td>\n    </tr>\n    <tr>\n      <th>19</th>\n      <td>0</td>\n      <td>29</td>\n      <td>1</td>\n      <td>4</td>\n    </tr>\n    <tr>\n      <th>20</th>\n      <td>0</td>\n      <td>30</td>\n      <td>1</td>\n      <td>4</td>\n    </tr>\n    <tr>\n      <th>21</th>\n      <td>0</td>\n      <td>31</td>\n      <td>1</td>\n      <td>4</td>\n    </tr>\n    <tr>\n      <th>22</th>\n      <td>0</td>\n      <td>32</td>\n      <td>1</td>\n      <td>4</td>\n    </tr>\n    <tr>\n      <th>23</th>\n      <td>0</td>\n      <td>33</td>\n      <td>1</td>\n      <td>4</td>\n    </tr>\n    <tr>\n      <th>24</th>\n      <td>0</td>\n      <td>34</td>\n      <td>1</td>\n      <td>4</td>\n    </tr>\n    <tr>\n      <th>25</th>\n      <td>0</td>\n      <td>35</td>\n      <td>1</td>\n      <td>4</td>\n    </tr>\n    <tr>\n      <th>26</th>\n      <td>0</td>\n      <td>36</td>\n      <td>1</td>\n      <td>4</td>\n    </tr>\n    <tr>\n      <th>27</th>\n      <td>0</td>\n      <td>37</td>\n      <td>1</td>\n      <td>4</td>\n    </tr>\n    <tr>\n      <th>28</th>\n      <td>0</td>\n      <td>38</td>\n      <td>1</td>\n      <td>4</td>\n    </tr>\n    <tr>\n      <th>29</th>\n      <td>0</td>\n      <td>39</td>\n      <td>1</td>\n      <td>4</td>\n    </tr>\n    <tr>\n      <th>30</th>\n      <td>0</td>\n      <td>40</td>\n      <td>1</td>\n      <td>4</td>\n    </tr>\n    <tr>\n      <th>31</th>\n      <td>0</td>\n      <td>41</td>\n      <td>1</td>\n      <td>4</td>\n    </tr>\n    <tr>\n      <th>32</th>\n      <td>0</td>\n      <td>42</td>\n      <td>1</td>\n      <td>4</td>\n    </tr>\n    <tr>\n      <th>33</th>\n      <td>0</td>\n      <td>43</td>\n      <td>1</td>\n      <td>4</td>\n    </tr>\n    <tr>\n      <th>34</th>\n      <td>0</td>\n      <td>44</td>\n      <td>1</td>\n      <td>4</td>\n    </tr>\n    <tr>\n      <th>35</th>\n      <td>0</td>\n      <td>45</td>\n      <td>1</td>\n      <td>4</td>\n    </tr>\n    <tr>\n      <th>36</th>\n      <td>0</td>\n      <td>46</td>\n      <td>1</td>\n      <td>4</td>\n    </tr>\n    <tr>\n      <th>37</th>\n      <td>0</td>\n      <td>15</td>\n      <td>3</td>\n      <td>5</td>\n    </tr>\n    <tr>\n      <th>38</th>\n      <td>0</td>\n      <td>16</td>\n      <td>3</td>\n      <td>5</td>\n    </tr>\n    <tr>\n      <th>39</th>\n      <td>0</td>\n      <td>17</td>\n      <td>3</td>\n      <td>5</td>\n    </tr>\n    <tr>\n      <th>40</th>\n      <td>0</td>\n      <td>18</td>\n      <td>3</td>\n      <td>5</td>\n    </tr>\n    <tr>\n      <th>41</th>\n      <td>0</td>\n      <td>19</td>\n      <td>3</td>\n      <td>5</td>\n    </tr>\n    <tr>\n      <th>42</th>\n      <td>0</td>\n      <td>20</td>\n      <td>3</td>\n      <td>5</td>\n    </tr>\n    <tr>\n      <th>43</th>\n      <td>0</td>\n      <td>21</td>\n      <td>3</td>\n      <td>5</td>\n    </tr>\n    <tr>\n      <th>44</th>\n      <td>0</td>\n      <td>22</td>\n      <td>3</td>\n      <td>5</td>\n    </tr>\n    <tr>\n      <th>45</th>\n      <td>0</td>\n      <td>23</td>\n      <td>3</td>\n      <td>5</td>\n    </tr>\n    <tr>\n      <th>46</th>\n      <td>0</td>\n      <td>24</td>\n      <td>3</td>\n      <td>5</td>\n    </tr>\n    <tr>\n      <th>47</th>\n      <td>0</td>\n      <td>25</td>\n      <td>3</td>\n      <td>5</td>\n    </tr>\n  </tbody>\n</table>\n</div>"
     },
     "execution_count": 22,
     "metadata": {},
     "output_type": "execute_result"
    }
   ],
   "source": [
    "\n",
    "school_data"
   ]
  },
  {
   "cell_type": "code",
   "execution_count": 18,
   "outputs": [
    {
     "data": {
      "text/plain": "['BSA', '45000', 'Bucal']"
     },
     "execution_count": 18,
     "metadata": {},
     "output_type": "execute_result"
    }
   ],
   "source": [
    "course = input()\n",
    "tuition = input()\n",
    "location = input()\n",
    "data = [course, tuition, location]\n",
    "#data = le.transform(data)\n",
    "#for element in data:\n",
    "  #print(element, end=\"\\t\")\n",
    "data\n"
   ],
   "metadata": {
    "collapsed": false
   }
  },
  {
   "cell_type": "code",
   "execution_count": null,
   "outputs": [],
   "source": [],
   "metadata": {
    "collapsed": false
   }
  }
 ],
 "metadata": {
  "kernelspec": {
   "display_name": "Python 3 (ipykernel)",
   "language": "python",
   "name": "python3"
  },
  "language_info": {
   "codemirror_mode": {
    "name": "ipython",
    "version": 3
   },
   "file_extension": ".py",
   "mimetype": "text/x-python",
   "name": "python",
   "nbconvert_exporter": "python",
   "pygments_lexer": "ipython3",
   "version": "3.9.12"
  }
 },
 "nbformat": 4,
 "nbformat_minor": 1
}
