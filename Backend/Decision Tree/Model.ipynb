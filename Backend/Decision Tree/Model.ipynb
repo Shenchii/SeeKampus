{
 "cells": [
  {
   "cell_type": "code",
   "execution_count": 46,
   "metadata": {},
   "outputs": [],
   "source": [
    "# Import libraries\n",
    "import pandas as pd\n",
    "from sklearn.tree import DecisionTreeClassifier\n",
    "from sklearn import preprocessing\n",
    "from sklearn.model_selection import train_test_split\n",
    "from sklearn.metrics import accuracy_score\n",
    "import joblib"
   ]
  },
  {
   "cell_type": "code",
   "execution_count": 47,
   "metadata": {},
   "outputs": [],
   "source": [
    "le = preprocessing.LabelEncoder()\n",
    "\n",
    "# Import data and preprocess\n",
    "school_data = pd.read_csv('school profiles.csv')\n",
    "for column_name in school_data.columns:\n",
    "        if school_data[column_name].dtype == object:\n",
    "            school_data[column_name] = le.fit_transform(school_data[column_name])\n",
    "        else:\n",
    "            pass"
   ]
  },
  {
   "cell_type": "code",
   "execution_count": 48,
   "metadata": {},
   "outputs": [],
   "source": [
    "X = school_data.drop(columns=['School'])\n",
    "y = school_data['School']\n",
    "\n",
    "X_train, X_test, y_train, y_test = train_test_split(X, y, test_size=0.2)\n",
    "\n",
    "model = DecisionTreeClassifier()\n",
    "model.fit(X_train, y_train)\n",
    "predictions = model.predict(X_test)\n",
    "score = accuracy_score(y_test, predictions)"
   ]
  },
  {
   "cell_type": "code",
   "execution_count": null,
   "outputs": [],
   "source": [
    "# # Create a mapping dictionary that maps each possible course value to its corresponding index\n",
    "# course_mapping = {\n",
    "#     'BS Accountancy': 0,\n",
    "#     'BS Architecture': 1,\n",
    "#     'BS Civil Engineering': 2,\n",
    "#     'BS Criminology': 3,\n",
    "#     'BS Electrical Engineering': 4,\n",
    "#     'BS Electronics Engineering': 5,\n",
    "#     'BS Elementary Education': 6,\n",
    "#     'BS Mechanical Engineering': 7,\n",
    "#     'BS Nursing': 8,\n",
    "#     'BS Psychology': 9,\n",
    "#     'BS Secondary Education': 10,\n",
    "#     'BS Secondary Education Major in English': 11,\n",
    "#     'BS Secondary Education Major in Filipino': 12,\n",
    "#     'BS Secondary Education Major in Mathematics': 13,\n",
    "#     'BS Secondary Education Major in Social Studies': 14\n",
    "#     # Add other possible course values and their indices here\n",
    "# }\n",
    "# # Create a mapping dictionary that maps each possible tuition fee value to its corresponding index\n",
    "# tuition_fee_mapping = {\n",
    "#     '12000': 0,\n",
    "#     '13000': 1,\n",
    "#     '14000': 2,\n",
    "#     '16000': 3,\n",
    "#     '17000': 4,\n",
    "#     '18000': 5,\n",
    "#     '19000': 6,\n",
    "#     '20000': 7,\n",
    "#     '21000': 8,\n",
    "#     '22000': 9,\n",
    "#     '23000': 10,\n",
    "#     '24000': 11,\n",
    "#     '25000': 12,\n",
    "#     '26000': 13,\n",
    "#     '32000': 14,\n",
    "#     '33000': 15,\n",
    "#     '34000': 16,\n",
    "#     '38000': 17,\n",
    "#     '40000': 18,\n",
    "#     '41000': 19,\n",
    "#     '42000': 20,\n",
    "#     '43000': 21,\n",
    "#     '44000': 22,\n",
    "#     '45000': 23,\n",
    "#     '46000': 24,\n",
    "#     '47000': 25,\n",
    "#     '48000': 26,\n",
    "#     '49000': 27,\n",
    "#     '50000': 28,\n",
    "#     '51000': 29,\n",
    "#     '52000': 30,\n",
    "#     '53000': 31,\n",
    "#     '54000': 32,\n",
    "#     '55000': 33,\n",
    "#     '56000': 34,\n",
    "#     '57000': 35,\n",
    "#     '58000': 36,\n",
    "#     '59000': 37,\n",
    "#     '60000': 38,\n",
    "#     '61000': 39,\n",
    "#     '62000': 40,\n",
    "#     '63000': 41,\n",
    "#     '64000': 42,\n",
    "#     '65000': 43,\n",
    "#     '70000': 44,\n",
    "#     '71000': 45,\n",
    "#     '72000': 46,\n",
    "#     '73000': 47,\n",
    "#     '74000': 48,\n",
    "#     '75000': 49,\n",
    "#     '76000': 50,\n",
    "#     '77000': 51,\n",
    "#     '78000': 52,\n",
    "#     '79000': 53,\n",
    "#     '80000': 54,\n",
    "#     '81000': 55,\n",
    "#     '82000': 56,\n",
    "#     '83000': 57,\n",
    "#     '84000': 58,\n",
    "#     '85000': 59,\n",
    "#     '86000': 60,\n",
    "#     '87000': 61,\n",
    "#     '88000': 62,\n",
    "#     '89000': 63,\n",
    "#     '90000': 64,\n",
    "#     # Add other possible tuition fee values and their indices here\n",
    "# }\n",
    "# # Create a mapping dictionary that maps each possible location value to its corresponding index\n",
    "# location_mapping = {\n",
    "#     'Brgy. Bucal': 0,\n",
    "#     'Brgy. Halang': 1,\n",
    "#     'Brgy. Makiling': 2,\n",
    "#     'Brgy. Paciano Rizal': 3,\n",
    "#     'Brgy. Parian': 4,\n",
    "#     'Brgy. Tres': 5,\n",
    "#     # Add other possible location values and their indices here\n",
    "# }\n",
    "# encoded_input_values = [\n",
    "#     course_mapping[course],\n",
    "#     tuition_fee_mapping[tuition_fee],\n",
    "#     location_mapping[location]\n",
    "# ]"
   ],
   "metadata": {
    "collapsed": false,
    "pycharm": {
     "is_executing": true
    }
   }
  },
  {
   "cell_type": "code",
   "execution_count": null,
   "metadata": {
    "scrolled": false,
    "pycharm": {
     "is_executing": true
    }
   },
   "outputs": [],
   "source": [
    "# predictions = model.predict([encoded_input_values])\n",
    "# le.inverse_transform(predictions)"
   ]
  },
  {
   "cell_type": "code",
   "execution_count": 52,
   "metadata": {},
   "outputs": [
    {
     "data": {
      "text/plain": "['school recommender.joblib']"
     },
     "execution_count": 52,
     "metadata": {},
     "output_type": "execute_result"
    }
   ],
   "source": [
    "joblib.dump(model, 'school recommender.joblib')\n"
   ]
  },
  {
   "cell_type": "code",
   "execution_count": 53,
   "outputs": [
    {
     "data": {
      "text/plain": "['label_encoder.joblib']"
     },
     "execution_count": 53,
     "metadata": {},
     "output_type": "execute_result"
    }
   ],
   "source": [
    "joblib.dump(le, 'label_encoder.joblib')"
   ],
   "metadata": {
    "collapsed": false
   }
  },
  {
   "cell_type": "code",
   "execution_count": null,
   "outputs": [],
   "source": [],
   "metadata": {
    "collapsed": false
   }
  }
 ],
 "metadata": {
  "kernelspec": {
   "display_name": "Python 3 (ipykernel)",
   "language": "python",
   "name": "python3"
  },
  "language_info": {
   "codemirror_mode": {
    "name": "ipython",
    "version": 3
   },
   "file_extension": ".py",
   "mimetype": "text/x-python",
   "name": "python",
   "nbconvert_exporter": "python",
   "pygments_lexer": "ipython3",
   "version": "3.9.12"
  }
 },
 "nbformat": 4,
 "nbformat_minor": 1
}
